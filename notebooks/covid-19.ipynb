{
 "cells": [
  {
   "cell_type": "markdown",
   "metadata": {},
   "source": [
    "# Usage of graph with covid-19 data"
   ]
  },
  {
   "cell_type": "code",
   "execution_count": 12,
   "metadata": {},
   "outputs": [],
   "source": [
    "import subprocess\n",
    "import pickle\n",
    "subprocess.Popen([\"python3\",\"-m\",\"http.server\"])\n",
    "from pybiographs import InteractionGraph, OntologyGraph, Mappings, CovidData"
   ]
  },
  {
   "cell_type": "markdown",
   "metadata": {},
   "source": [
    "First let's load graphs. If the graphs are not loaded, the package will download them for you. The graphs are wrapped in a class but have the same methods as in the networkx : https://networkx.github.io/documentation/stable/"
   ]
  },
  {
   "cell_type": "code",
   "execution_count": 2,
   "metadata": {},
   "outputs": [
    {
     "name": "stdout",
     "output_type": "stream",
     "text": [
      "protein nodes in directed : 15531\n",
      "interaction edges in directed : 1665684\n",
      "protein nodes in undirected : 18553\n",
      "interaction edges in undirected : 5542412\n"
     ]
    }
   ],
   "source": [
    "directed_graph = InteractionGraph(directed=True)\n",
    "undirected_graph = InteractionGraph(directed=False)\n",
    "print(\"protein nodes in directed :\", len(directed_graph.nodes()))\n",
    "print(\"interaction edges in directed :\", len(directed_graph.edges()))\n",
    "print(\"protein nodes in undirected :\", len(undirected_graph.nodes()))\n",
    "print(\"interaction edges in undirected :\", len(undirected_graph.edges()))"
   ]
  },
  {
   "cell_type": "markdown",
   "metadata": {},
   "source": [
    "Let's load the useful dictionaries to deal with the data explained in readme :"
   ]
  },
  {
   "cell_type": "code",
   "execution_count": 3,
   "metadata": {},
   "outputs": [
    {
     "name": "stdout",
     "output_type": "stream",
     "text": [
      "('biological_processes_union', 'cell_components_union', 'covid_go_to_name', 'metabolites_id_to_name', 'molecular_functions_union', 'gene_to_proteins', 'go_to_name', 'tissue_num_mapping')\n"
     ]
    }
   ],
   "source": [
    "maps = Mappings()\n",
    "print(maps.names)"
   ]
  },
  {
   "cell_type": "markdown",
   "metadata": {},
   "source": [
    "Let's open covid-19 data:"
   ]
  },
  {
   "cell_type": "code",
   "execution_count": 13,
   "metadata": {},
   "outputs": [],
   "source": [
    "covid_data = CovidData()"
   ]
  },
  {
   "cell_type": "code",
   "execution_count": 14,
   "metadata": {},
   "outputs": [
    {
     "name": "stdout",
     "output_type": "stream",
     "text": [
      "['O15393', 'Q92499', 'Q9BYF1', 'O43765', 'P20701', 'P35232', 'P84022', 'Q8N3R9', 'Q99623']\n"
     ]
    }
   ],
   "source": [
    "human_interacting_proteins = [p for p in covid_data.keys() if covid_data[p][\"human\"]]\n",
    "print(human_interacting_proteins)"
   ]
  },
  {
   "cell_type": "markdown",
   "metadata": {},
   "source": [
    "These proteins are the ones at https://covid-19.uniprot.org/uniprotkb?query=* that are human. Mainly, there is the protein Angiotensin-converting enzyme 2 (ACE) with uniprot id Q9BYF1 (https://www.uniprot.org/uniprot/Q9BYF1)  and Transmembrane protease serine 2 (TPS2) with uniprot id O15393 (https://www.uniprot.org/uniprot/O15393). We are interested in the interactions and the data expression about those proteins in graphs."
   ]
  },
  {
   "cell_type": "code",
   "execution_count": 6,
   "metadata": {},
   "outputs": [
    {
     "name": "stdout",
     "output_type": "stream",
     "text": [
      "mucosa of transverse colon  :  0.4567447744774477\n",
      "small intestine Peyer's patch  :  0.4547480748074808\n",
      "jejunal mucosa  :  0.44589768976897687\n",
      "right lung  :  0.4433212321232123\n",
      "esophagus mucosa  :  0.4433168316831684\n",
      "transverse colon  :  0.443035203520352\n",
      "left lobe of thyroid gland  :  0.4423377337733774\n",
      "colonic mucosa  :  0.44187458745874575\n",
      "right lobe of thyroid gland  :  0.44181958195819576\n",
      "cortex of kidney  :  0.4412145214521452\n",
      "right lobe of liver  :  0.441002200220022\n",
      "upper lobe of left lung  :  0.4408789878987899\n",
      "body of pancreas  :  0.4405379537953795\n",
      "lower esophagus mucosa  :  0.4395929592959296\n",
      "minor salivary gland  :  0.4395819581958195\n",
      "thyroid gland  :  0.4347623762376237\n",
      "duodenum  :  0.43366336633663366\n",
      "multi-cellular organism  :  0.4321221122112211\n",
      "body of stomach  :  0.4315500550055006\n",
      "kidney epithelium  :  0.43145324532453244\n"
     ]
    }
   ],
   "source": [
    "undirected_graph.classify_tissue_by_node_expression(human_interacting_proteins, limit=20)"
   ]
  },
  {
   "cell_type": "markdown",
   "metadata": {},
   "source": [
    "The method classify_by_node_expression will look for the expression values of genes coding the 8 proteins in all available tissues and do the mean of their expression. It will then classify and get the top 20 tissues. We can see that respiratory and digestive system are quite touched."
   ]
  },
  {
   "cell_type": "markdown",
   "metadata": {},
   "source": [
    "Now let's take the first degree neighbors of this 8 proteins in tissue upper lobe of left lung where we know the virus is quite harmful :"
   ]
  },
  {
   "cell_type": "code",
   "execution_count": 7,
   "metadata": {},
   "outputs": [
    {
     "data": {
      "text/plain": [
       "2641"
      ]
     },
     "execution_count": 7,
     "metadata": {},
     "output_type": "execute_result"
    }
   ],
   "source": [
    "sub_graph = undirected_graph.sub_graph_from_node_propagation(human_interacting_proteins,\n",
    "                                                diameter=1,\n",
    "                                                tissue=\"upper lobe of left lung\",\n",
    "                                                score_threshold = 0.99,\n",
    "                                                expression_threshold = 0.0)\n",
    "len(sub_graph.nodes())"
   ]
  },
  {
   "cell_type": "markdown",
   "metadata": {},
   "source": [
    "The method gives back a subgraph with all the first degree neighbors of proteins with expression values superior to 0.0 in the upper lobe of the left lung. There is 2641 proteins in this subgraph. Let's see the most affected biological processes and cellular components:"
   ]
  },
  {
   "cell_type": "code",
   "execution_count": 8,
   "metadata": {},
   "outputs": [
    {
     "name": "stdout",
     "output_type": "stream",
     "text": [
      "Most affected biological processes :\n",
      "\t nuclear-transcribed mRNA catabolic process, nonsense-mediated decay\n",
      "\t establishment of protein localization to endoplasmic reticulum\n",
      "\t viral transcription\n",
      "\t translational initiation\n",
      "\t protein localization to endoplasmic reticulum\n",
      "\t nuclear-transcribed mRNA catabolic process\n",
      "\t mRNA catabolic process\n",
      "\t protein targeting to membrane\n",
      "\t RNA splicing, via transesterification reactions\n",
      "\t RNA catabolic process\n",
      "\t mRNA splicing, via spliceosome\n",
      "\t RNA splicing, via transesterification reactions with bulged adenosine as nucleophile\n",
      "\t translation\n",
      "\t ribonucleoprotein complex biogenesis\n",
      "\t translational elongation\n",
      "\t mRNA export from nucleus\n",
      "\t ribonucleoprotein complex assembly\n",
      "\t RNA export from nucleus\n",
      "\t cellular component biogenesis\n",
      "\t ribonucleoprotein complex subunit organization\n"
     ]
    }
   ],
   "source": [
    "undirected_graph.most_present_biological_processes(sub_graph, \n",
    "                                                   tissue = \"upper lobe of left lung\",\n",
    "                                                   bp_size_thresh=100,\n",
    "                                                   limit=20)"
   ]
  },
  {
   "cell_type": "code",
   "execution_count": 9,
   "metadata": {},
   "outputs": [
    {
     "name": "stdout",
     "output_type": "stream",
     "text": [
      "Most affected cellular_components :\n",
      "\t ribosomal subunit\n",
      "\t large ribosomal subunit\n",
      "\t ribosome\n",
      "\t mitochondrial protein complex\n",
      "\t inner mitochondrial membrane protein complex\n",
      "\t oxidoreductase complex\n",
      "\t ribonucleoprotein complex\n",
      "\t spliceosomal complex\n",
      "\t ficolin-1-rich granule lumen\n",
      "\t chromosome, telomeric region\n",
      "\t nuclear periphery\n",
      "\t ficolin-1-rich granule\n",
      "\t mitochondrial inner membrane\n",
      "\t transferase complex, transferring phosphorus-containing groups\n",
      "\t RNA polymerase II transcription factor complex\n",
      "\t catalytic complex\n",
      "\t organelle inner membrane\n",
      "\t nuclear transcription factor complex\n",
      "\t cytoplasmic ribonucleoprotein granule\n",
      "\t mitochondrial matrix\n"
     ]
    }
   ],
   "source": [
    "undirected_graph.most_present_cellular_components(sub_graph, \n",
    "                                                   tissue = \"upper lobe of left lung\",\n",
    "                                                   cc_size_thresh=100,\n",
    "                                                   limit=20)"
   ]
  },
  {
   "cell_type": "markdown",
   "metadata": {},
   "source": [
    "Now, because we know how harmfull the virus is for upper lobe of lung, let's reclassify tissue by expression of all neigbors of these proteins in upper lung :"
   ]
  },
  {
   "cell_type": "code",
   "execution_count": 10,
   "metadata": {},
   "outputs": [
    {
     "name": "stdout",
     "output_type": "stream",
     "text": [
      "upper lobe of left lung  :  0.43498759930669206\n",
      "omental fat pad  :  0.43317966118194534\n",
      "esophagus mucosa  :  0.4326616978767176\n",
      "small intestine Peyer's patch  :  0.43108744994832554\n",
      "thoracic aorta  :  0.43044631099081176\n",
      "transverse colon  :  0.4301820969029879\n",
      "lower esophagus  :  0.43003890423044555\n",
      "body of stomach  :  0.4299655439421258\n",
      "right atrium auricular region  :  0.4298833265102351\n",
      "left coronary artery  :  0.42981789183765\n",
      "ascending aorta  :  0.42928104024753183\n",
      "left adrenal gland  :  0.42915422204810466\n",
      "skin of leg  :  0.42906254176648223\n",
      "minor salivary gland  :  0.4289113925618228\n",
      "skin of abdomen  :  0.428841720257978\n",
      "spleen  :  0.4286693639398014\n",
      "lower esophagus muscularis layer  :  0.42853205305271114\n",
      "esophagogastric junction muscularis propria  :  0.4282778460379169\n",
      "multi-cellular organism  :  0.42810372296222426\n",
      "muscle layer of sigmoid colon  :  0.4280449919459946\n"
     ]
    }
   ],
   "source": [
    "undirected_graph.classify_tissue_by_node_expression(list(sub_graph.nodes()), limit=20)"
   ]
  },
  {
   "cell_type": "markdown",
   "metadata": {},
   "source": [
    "Interesting, fat pad is very affected by the virus, which is coherent with the fact that obesity is a risk factor of complications. Then now, we have the heart, which is also a known complication of the virus."
   ]
  },
  {
   "cell_type": "code",
   "execution_count": 11,
   "metadata": {},
   "outputs": [
    {
     "name": "stdout",
     "output_type": "stream",
     "text": [
      "number proteins degree 2 : 4744\n",
      "upper lobe of left lung  :  0.42437042600971736\n",
      "esophagus mucosa  :  0.4237791288561807\n",
      "omental fat pad  :  0.42273617334245966\n",
      "lower esophagus  :  0.42169340963607194\n",
      "skin of leg  :  0.4215933015822669\n",
      "body of stomach  :  0.42148918274395075\n",
      "thoracic aorta  :  0.42136566687676325\n",
      "skin of abdomen  :  0.42134532869033153\n",
      "transverse colon  :  0.42127924295549196\n",
      "right atrium auricular region  :  0.4210191761071136\n",
      "left adrenal gland  :  0.42101194714602097\n",
      "small intestine Peyer's patch  :  0.4209552976071204\n",
      "lower esophagus muscularis layer  :  0.42054608158159784\n",
      "esophagogastric junction muscularis propria  :  0.4202927177146465\n",
      "muscle layer of sigmoid colon  :  0.4202878803171211\n",
      "ascending aorta  :  0.4201601907081515\n",
      "left coronary artery  :  0.4199956857924411\n",
      "minor salivary gland  :  0.4198715230772634\n",
      "right adrenal gland  :  0.41957741093143996\n",
      "left adrenal gland cortex  :  0.41904059570122215\n"
     ]
    }
   ],
   "source": [
    "sub_graph = undirected_graph.sub_graph_from_node_propagation(human_interacting_proteins,\n",
    "                                                diameter=2,\n",
    "                                                tissue=\"upper lobe of left lung\",\n",
    "                                                score_threshold = 0.99,\n",
    "                                                expression_threshold = 0.0)\n",
    "print(\"number proteins degree 2 :\", len(sub_graph.nodes()))\n",
    "undirected_graph.classify_tissue_by_node_expression(list(sub_graph.nodes()), limit=20)"
   ]
  }
 ],
 "metadata": {
  "kernelspec": {
   "display_name": "Python 3",
   "language": "python",
   "name": "python3"
  },
  "language_info": {
   "codemirror_mode": {
    "name": "ipython",
    "version": 3
   },
   "file_extension": ".py",
   "mimetype": "text/x-python",
   "name": "python",
   "nbconvert_exporter": "python",
   "pygments_lexer": "ipython3",
   "version": "3.6.8"
  }
 },
 "nbformat": 4,
 "nbformat_minor": 2
}
